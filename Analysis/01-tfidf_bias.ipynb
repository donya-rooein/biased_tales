{
 "cells": [
  {
   "cell_type": "code",
   "execution_count": null,
   "metadata": {},
   "outputs": [],
   "source": [
    "# TODO: update to the new data format, which simplifies things!\n",
    "# TODO: update this from notebook to semi-interactive script\n",
    "\n",
    "import csv\n",
    "\n",
    "# data = list(csv.DictReader(open('data/exp2-annotated-processed.csv', 'r')))\n",
    "data = list(csv.DictReader(open('data/exp2-all_raw_data.csv', 'r')))\n",
    "\n",
    "print(len(data), data[0].keys())"
   ]
  },
  {
   "cell_type": "code",
   "execution_count": null,
   "metadata": {},
   "outputs": [],
   "source": [
    "\n",
    "for line in data:\n",
    "    x = line[\"nationality_parent\"]\n",
    "    line[\"nationality_parent_group\"] = (\n",
    "        \"North American\" if x in {\"American\", \"Canadian\"} else\n",
    "        \"South American\" if x in {\"Mexican\", \"Brazilian\"} else\n",
    "        \"European\" if x in {\"British\", \"German\", \"French\", \"Italian\", \"Russian\"} else\n",
    "        \"Middle Eastern\" if x in {\"Armenian\", \"Afghan\", \"Azerbaijani\", \"Egyptian\", \"Iranian\", \"Iraqi\"} else\n",
    "        \"African\" if x in {\"Ethiopian\", \"Kenyan\", \"Malian\", \"Nigerian\", \"South African\", \"Sudanese\"} else\n",
    "        \"Asian\" if x in {\"Chinese\", \"Filipino\", \"Indian\", \"Indonesian\", \"Japanese\", \"Sri Lankan\", \"Tajik\", \"Thai\", \"Vietnamese\"} else\n",
    "        \"Other\"\n",
    "    )\n",
    "    line[\"nationality_parent_developed\"] = (\n",
    "        \"Developed\" if x in {\"American\", \"British\", \"Canadian\", \"French\", \"German\", \"Italian\", \"Japanese\", \"Russian\"} else\n",
    "        \"Developing\" if x in {\"Afghan\", \"Armenian\", \"Azerbaijani\", \"Brazilian\", \"Chinese\", \"Egyptian\", \"Ethiopian\", \"Filipino\", \"Indian\", \"Indonesian\", \"Iranian\", \"Iraqi\", \"Kenyan\", \"Malian\", \"Mexican\", \"Nigerian\", \"South African\", \"Sri Lankan\", \"Sudanese\", \"Tajik\", \"Thai\", \"Vietnamese\"} else\n",
    "        \"Other\"\n",
    "    )"
   ]
  },
  {
   "cell_type": "code",
   "execution_count": null,
   "metadata": {},
   "outputs": [],
   "source": [
    "{d[\"model\"] for d in data}"
   ]
  },
  {
   "cell_type": "code",
   "execution_count": null,
   "metadata": {},
   "outputs": [],
   "source": [
    "data[-1][\"protagonist_attributes_processed\"]"
   ]
  },
  {
   "cell_type": "code",
   "execution_count": null,
   "metadata": {},
   "outputs": [],
   "source": [
    "import sklearn.feature_extraction.text\n",
    "import sklearn.linear_model\n",
    "import sklearn.model_selection\n",
    "import numpy as np\n",
    "\n",
    "vectorizer = sklearn.feature_extraction.text.TfidfVectorizer(\n",
    "    max_features=100,\n",
    "    # these stop words include he/she/they/etc\n",
    "    stop_words='english',\n",
    ")\n",
    "data_x = vectorizer.fit_transform([d['story_text_cleaned'] for d in data])\n",
    "data_y = [d['gender_of_child'] for d in data]\n",
    "\n",
    "data_x_train, data_x_test, data_y_train, data_y_test = sklearn.model_selection.train_test_split(data_x, data_y, test_size=0.1, random_state=0)\n",
    "\n",
    "model = sklearn.linear_model.LogisticRegression()\n",
    "model.fit(data_x_train, data_y_train)\n",
    "print(f\"Accuracy: {model.score(data_x_test, data_y_test):.1%}\")\n",
    "\n",
    "# get most important features from vectorizer and model\n",
    "features = vectorizer.get_feature_names_out()\n",
    "\n",
    "for target_i, target in enumerate(model.classes_):\n",
    "    # top_indicies = np.argsort(np.abs(model.coef_[target_i]))[-10:][::-1]\n",
    "    top_indicies = np.argsort(model.coef_[target_i])[-5:][::-1]\n",
    "    texts = [f\"& {model.coef_[target_i][i]:.1f} & {features[i]:>15}\".replace(\"+-\", \"-\") for i in top_indicies]\n",
    "    print(\n",
    "        \"\\\\cmidrule{1-1}\\n\" +\n",
    "        f\"\\\\parbox[t]{{2mm}}{{\\multirow{{5}}{{*}}{{\\\\rotatebox[origin=c]{{90}}{{{target}}}}}}}\",\n",
    "        # f\"To predict `{target}` we use the following:\",\n",
    "        end=\"\\n\",\n",
    "    )\n",
    "    print(\n",
    "        *texts,\n",
    "        sep=\"\\\\\\\\\\n\",\n",
    "        end=\"\\\\\\\\\\n\",\n",
    "    )"
   ]
  }
 ],
 "metadata": {
  "kernelspec": {
   "display_name": "base",
   "language": "python",
   "name": "python3"
  },
  "language_info": {
   "codemirror_mode": {
    "name": "ipython",
    "version": 3
   },
   "file_extension": ".py",
   "mimetype": "text/x-python",
   "name": "python",
   "nbconvert_exporter": "python",
   "pygments_lexer": "ipython3",
   "version": "3.11.5"
  }
 },
 "nbformat": 4,
 "nbformat_minor": 2
}
