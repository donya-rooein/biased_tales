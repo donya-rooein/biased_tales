{
 "cells": [
  {
   "cell_type": "code",
   "execution_count": null,
   "metadata": {},
   "outputs": [],
   "source": [
    "# TODO: update to the new data format, which simplifies things!\n",
    "# TODO: update this from notebook to semi-interactive script\n",
    "\n",
    "import csv\n",
    "import re\n",
    "\n",
    "def story_text_cleaned(text):\n",
    "    if text:  # Check if the text is not None or NaN\n",
    "        match = re.search(r\"---\\s*(.*?)\\s*---\", text, re.S)\n",
    "        if match:\n",
    "            return match.group(1).strip()\n",
    "    text = text.replace(\"child\", \"\").replace(\"son\", \"\").replace(\"daughter\", \"\").replace(\"boy\", \"\").replace(\"girl\", \"\")\n",
    "    return text  # Return the original text if no match is found\n",
    "\n",
    "\n",
    "# data = list(csv.DictReader(open('data/exp2-all_raw_data.csv', 'r')))\n",
    "# race_of_parent\n",
    "# data = list(csv.DictReader(open('data/exp3.csv', 'r')))\n",
    "# religion_of_parent\n",
    "data = list(csv.DictReader(open('data/exp4.csv', 'r')))\n",
    "\n",
    "for line in data:\n",
    "    line[\"story_text_cleaned\"] = story_text_cleaned(line[\"story_text\"])\n",
    "\n",
    "for line in data:\n",
    "    if \"nationality_parent\" not in line:\n",
    "        continue\n",
    "    x = line[\"nationality_parent\"]\n",
    "    line[\"nationality_parent_group\"] = (\n",
    "        \"North A.\" if x in {\"American\", \"Canadian\"} else\n",
    "        \"South A.\" if x in {\"Mexican\", \"Brazilian\"} else\n",
    "        \"Euro.\" if x in {\"British\", \"German\", \"French\", \"Italian\", \"Russian\"} else\n",
    "        \"M. East.\" if x in {\"Armenian\", \"Afghan\", \"Azerbaijani\", \"Egyptian\", \"Iranian\", \"Iraqi\"} else\n",
    "        \"Africa\" if x in {\"Ethiopian\", \"Kenyan\", \"Malian\", \"Nigerian\", \"South African\", \"Sudanese\"} else\n",
    "        \"Asia\" if x in {\"Chinese\", \"Filipino\", \"Indian\", \"Indonesian\", \"Japanese\", \"Sri Lankan\", \"Tajik\", \"Thai\", \"Vietnamese\"} else\n",
    "        \"Other\"\n",
    "    )\n",
    "    line[\"nationality_parent_developed\"] = (\n",
    "        \"Developed\" if x in {\"American\", \"British\", \"Canadian\", \"French\", \"German\", \"Italian\", \"Japanese\", \"Russian\"} else\n",
    "        \"Developing\" if x in {\"Afghan\", \"Armenian\", \"Azerbaijani\", \"Brazilian\", \"Chinese\", \"Egyptian\", \"Ethiopian\", \"Filipino\", \"Indian\", \"Indonesian\", \"Iranian\", \"Iraqi\", \"Kenyan\", \"Malian\", \"Mexican\", \"Nigerian\", \"South African\", \"Sri Lankan\", \"Sudanese\", \"Tajik\", \"Thai\", \"Vietnamese\"} else\n",
    "        \"Other\"\n",
    "    )"
   ]
  },
  {
   "cell_type": "code",
   "execution_count": null,
   "metadata": {},
   "outputs": [],
   "source": [
    "import numpy as np\n",
    "import sklearn\n",
    "import sklearn.neural_network\n",
    "import sklearn.model_selection\n",
    "import sklearn.feature_extraction.text\n",
    "import sklearn.dummy\n",
    "\n",
    "model = sklearn.neural_network.MLPClassifier(hidden_layer_sizes=(100, 100), max_iter=100)\n",
    "\n",
    "def predict_variable(\n",
    "        in_variable=\"story_text_cleaned\",\n",
    "        out_variable=\"gender_of_child\",\n",
    "        filter_fn=lambda x: True,\n",
    "    ):\n",
    "    data_local = [line for line in data if filter_fn(line)]\n",
    "    data_x = sklearn.feature_extraction.text.TfidfVectorizer(\n",
    "        max_df=500,\n",
    "        stop_words=\"english\"\n",
    "    ).fit_transform([line[in_variable] for line in data_local])\n",
    "    data_y = [line[out_variable] for line in data_local]\n",
    "    out = sklearn.model_selection.cross_validate(\n",
    "        model,\n",
    "        data_x,\n",
    "        data_y,\n",
    "        cv=5,\n",
    "    )\n",
    "    score = np.average(out[\"test_score\"])\n",
    "    print(f\"{score:.1%}\")\n",
    "\n",
    "def predict_variable_dummy(out_variable=\"gender_of_child\", filter_fn= lambda x: True):\n",
    "    model = sklearn.dummy.DummyClassifier(strategy=\"most_frequent\")\n",
    "    data_local = [line for line in data if filter_fn(line)]\n",
    "    data_x = [line for line in data_local]\n",
    "    data_y = [line[out_variable] for line in data_local]\n",
    "    out = sklearn.model_selection.cross_validate(\n",
    "        model,\n",
    "        data_x,\n",
    "        data_y,\n",
    "        cv=5,\n",
    "    )\n",
    "    score = np.average(out[\"test_score\"])\n",
    "    print(f\"{score:.1%}\")"
   ]
  },
  {
   "cell_type": "code",
   "execution_count": null,
   "metadata": {},
   "outputs": [],
   "source": [
    "predict_variable_dummy(out_variable=\"gender_of_child\")\n",
    "predict_variable(in_variable=\"story_text_cleaned\", out_variable=\"gender_of_child\")\n",
    "predict_variable(in_variable=\"story_text_cleaned\", out_variable=\"gender_of_child\", filter_fn=lambda x: x[\"model\"] == \"GPT4\")\n",
    "predict_variable(in_variable=\"story_text_cleaned\", out_variable=\"gender_of_child\", filter_fn=lambda x: x[\"model\"] == \"Llama3\")"
   ]
  },
  {
   "cell_type": "code",
   "execution_count": null,
   "metadata": {},
   "outputs": [],
   "source": [
    "predict_variable_dummy(out_variable=\"nationality_parent_developed\")\n",
    "predict_variable(in_variable=\"story_text_cleaned\", out_variable=\"nationality_parent_developed\")\n",
    "predict_variable(in_variable=\"story_text_cleaned\", out_variable=\"nationality_parent_developed\", filter_fn=lambda x: x[\"model\"] == \"GPT4\")\n",
    "predict_variable(in_variable=\"story_text_cleaned\", out_variable=\"nationality_parent_developed\", filter_fn=lambda x: x[\"model\"] == \"Llama3\")"
   ]
  },
  {
   "cell_type": "code",
   "execution_count": null,
   "metadata": {},
   "outputs": [],
   "source": [
    "predict_variable_dummy(out_variable=\"nationality_parent_group\")\n",
    "predict_variable(in_variable=\"story_text_cleaned\", out_variable=\"nationality_parent_group\")\n",
    "predict_variable(in_variable=\"story_text_cleaned\", out_variable=\"nationality_parent_group\", filter_fn=lambda x: x[\"model\"] == \"GPT4\")\n",
    "predict_variable(in_variable=\"story_text_cleaned\", out_variable=\"nationality_parent_group\", filter_fn=lambda x: x[\"model\"] == \"Llama3\")"
   ]
  },
  {
   "cell_type": "code",
   "execution_count": null,
   "metadata": {},
   "outputs": [],
   "source": [
    "# NOTE: reload exp3\n",
    "predict_variable_dummy(out_variable=\"race_of_parent\")\n",
    "predict_variable(in_variable=\"story_text_cleaned\", out_variable=\"race_of_parent\")\n",
    "predict_variable(in_variable=\"story_text_cleaned\", out_variable=\"race_of_parent\", filter_fn=lambda x: x[\"model\"] == \"GPT4\")\n",
    "predict_variable(in_variable=\"story_text_cleaned\", out_variable=\"race_of_parent\", filter_fn=lambda x: x[\"model\"] == \"Llama3\")"
   ]
  },
  {
   "cell_type": "code",
   "execution_count": null,
   "metadata": {},
   "outputs": [],
   "source": [
    "# NOTE: reload exp4\n",
    "predict_variable_dummy(out_variable=\"religion_of_parent\")\n",
    "predict_variable(in_variable=\"story_text_cleaned\", out_variable=\"religion_of_parent\")\n",
    "predict_variable(in_variable=\"story_text_cleaned\", out_variable=\"religion_of_parent\", filter_fn=lambda x: x[\"model\"] == \"GPT4\")\n",
    "predict_variable(in_variable=\"story_text_cleaned\", out_variable=\"religion_of_parent\", filter_fn=lambda x: x[\"model\"] == \"Llama3\")"
   ]
  }
 ],
 "metadata": {
  "kernelspec": {
   "display_name": "base",
   "language": "python",
   "name": "python3"
  },
  "language_info": {
   "codemirror_mode": {
    "name": "ipython",
    "version": 3
   },
   "file_extension": ".py",
   "mimetype": "text/x-python",
   "name": "python",
   "nbconvert_exporter": "python",
   "pygments_lexer": "ipython3",
   "version": "3.11.5"
  }
 },
 "nbformat": 4,
 "nbformat_minor": 2
}
